{
 "cells": [
  {
   "cell_type": "code",
   "execution_count": 85,
   "metadata": {},
   "outputs": [],
   "source": [
    "import pandas as pd\n",
    "import numpy as np\n",
    "import statsmodels as sm\n",
    "import matplotlib.pyplot as py"
   ]
  },
  {
   "cell_type": "markdown",
   "metadata": {},
   "source": [
    "# Data Processing"
   ]
  },
  {
   "cell_type": "code",
   "execution_count": 77,
   "metadata": {},
   "outputs": [
    {
     "name": "stdout",
     "output_type": "stream",
     "text": [
      "The number of days: 25195\n"
     ]
    },
    {
     "data": {
      "text/plain": [
       "0       1950-01-01\n",
       "1       1950-01-02\n",
       "2       1950-01-03\n",
       "3       1950-01-04\n",
       "4       1950-01-05\n",
       "5       1950-01-06\n",
       "6       1950-01-07\n",
       "7       1950-01-08\n",
       "8       1950-01-09\n",
       "9       1950-01-10\n",
       "10      1950-01-11\n",
       "11      1950-01-12\n",
       "12      1950-01-13\n",
       "13      1950-01-14\n",
       "14      1950-01-15\n",
       "15      1950-01-16\n",
       "16      1950-01-17\n",
       "17      1950-01-18\n",
       "18      1950-01-19\n",
       "19      1950-01-20\n",
       "20      1950-01-21\n",
       "21      1950-01-22\n",
       "22      1950-01-23\n",
       "23      1950-01-24\n",
       "24      1950-01-25\n",
       "25      1950-01-26\n",
       "26      1950-01-27\n",
       "27      1950-01-28\n",
       "28      1950-01-29\n",
       "29      1950-01-30\n",
       "           ...    \n",
       "25165   2018-11-25\n",
       "25166   2018-11-26\n",
       "25167   2018-11-27\n",
       "25168   2018-11-28\n",
       "25169   2018-11-29\n",
       "25170   2018-11-30\n",
       "25171   2018-12-01\n",
       "25172   2018-12-02\n",
       "25173   2018-12-03\n",
       "25174   2018-12-04\n",
       "25175   2018-12-05\n",
       "25176   2018-12-06\n",
       "25177   2018-12-07\n",
       "25178   2018-12-08\n",
       "25179   2018-12-09\n",
       "25180   2018-12-10\n",
       "25181   2018-12-11\n",
       "25182   2018-12-12\n",
       "25183   2018-12-13\n",
       "25184   2018-12-14\n",
       "25185   2018-12-15\n",
       "25186   2018-12-16\n",
       "25187   2018-12-17\n",
       "25188   2018-12-18\n",
       "25189   2018-12-19\n",
       "25190   2018-12-20\n",
       "25191   2018-12-21\n",
       "25192   2018-12-22\n",
       "25193   2018-12-23\n",
       "25194   2018-12-24\n",
       "Name: index, Length: 25195, dtype: datetime64[ns]"
      ]
     },
     "execution_count": 77,
     "metadata": {},
     "output_type": "execute_result"
    }
   ],
   "source": [
    "# Setting up the base Series to join along\n",
    "base = pd.date_range('1950-01-01', '2018-12-24')\n",
    "print('The number of days:',len(base))\n",
    "base.to_frame().reset_index()['index']"
   ]
  },
  {
   "cell_type": "code",
   "execution_count": 47,
   "metadata": {},
   "outputs": [
    {
     "data": {
      "text/html": [
       "<div>\n",
       "<style scoped>\n",
       "    .dataframe tbody tr th:only-of-type {\n",
       "        vertical-align: middle;\n",
       "    }\n",
       "\n",
       "    .dataframe tbody tr th {\n",
       "        vertical-align: top;\n",
       "    }\n",
       "\n",
       "    .dataframe thead th {\n",
       "        text-align: right;\n",
       "    }\n",
       "</style>\n",
       "<table border=\"1\" class=\"dataframe\">\n",
       "  <thead>\n",
       "    <tr style=\"text-align: right;\">\n",
       "      <th></th>\n",
       "      <th>Close</th>\n",
       "    </tr>\n",
       "    <tr>\n",
       "      <th>Date</th>\n",
       "      <th></th>\n",
       "    </tr>\n",
       "  </thead>\n",
       "  <tbody>\n",
       "    <tr>\n",
       "      <th>2017-12-26</th>\n",
       "      <td>7.38</td>\n",
       "    </tr>\n",
       "    <tr>\n",
       "      <th>2017-12-27</th>\n",
       "      <td>7.46</td>\n",
       "    </tr>\n",
       "    <tr>\n",
       "      <th>2017-12-28</th>\n",
       "      <td>7.23</td>\n",
       "    </tr>\n",
       "    <tr>\n",
       "      <th>2018-01-01</th>\n",
       "      <td>7.23</td>\n",
       "    </tr>\n",
       "    <tr>\n",
       "      <th>2018-01-02</th>\n",
       "      <td>7.08</td>\n",
       "    </tr>\n",
       "  </tbody>\n",
       "</table>\n",
       "</div>"
      ],
      "text/plain": [
       "            Close\n",
       "Date             \n",
       "2017-12-26   7.38\n",
       "2017-12-27   7.46\n",
       "2017-12-28   7.23\n",
       "2018-01-01   7.23\n",
       "2018-01-02   7.08"
      ]
     },
     "execution_count": 47,
     "metadata": {},
     "output_type": "execute_result"
    }
   ],
   "source": [
    "data = pd.read_csv('Data/sample.csv')\n",
    "data['Date'] = pd.to_datetime(data['Date'])\n",
    "data.set_index('Date', inplace=True)\n",
    "rel = data[['Close']]\n",
    "rel.head()"
   ]
  },
  {
   "cell_type": "code",
   "execution_count": 95,
   "metadata": {},
   "outputs": [
    {
     "data": {
      "text/html": [
       "<div>\n",
       "<style scoped>\n",
       "    .dataframe tbody tr th:only-of-type {\n",
       "        vertical-align: middle;\n",
       "    }\n",
       "\n",
       "    .dataframe tbody tr th {\n",
       "        vertical-align: top;\n",
       "    }\n",
       "\n",
       "    .dataframe thead th {\n",
       "        text-align: right;\n",
       "    }\n",
       "</style>\n",
       "<table border=\"1\" class=\"dataframe\">\n",
       "  <thead>\n",
       "    <tr style=\"text-align: right;\">\n",
       "      <th></th>\n",
       "      <th>0</th>\n",
       "      <th>Close</th>\n",
       "    </tr>\n",
       "  </thead>\n",
       "  <tbody>\n",
       "    <tr>\n",
       "      <th>1950-01-01</th>\n",
       "      <td>1950-01-01</td>\n",
       "      <td>NaN</td>\n",
       "    </tr>\n",
       "    <tr>\n",
       "      <th>1950-01-02</th>\n",
       "      <td>1950-01-02</td>\n",
       "      <td>NaN</td>\n",
       "    </tr>\n",
       "    <tr>\n",
       "      <th>1950-01-03</th>\n",
       "      <td>1950-01-03</td>\n",
       "      <td>NaN</td>\n",
       "    </tr>\n",
       "    <tr>\n",
       "      <th>1950-01-04</th>\n",
       "      <td>1950-01-04</td>\n",
       "      <td>NaN</td>\n",
       "    </tr>\n",
       "    <tr>\n",
       "      <th>1950-01-05</th>\n",
       "      <td>1950-01-05</td>\n",
       "      <td>NaN</td>\n",
       "    </tr>\n",
       "  </tbody>\n",
       "</table>\n",
       "</div>"
      ],
      "text/plain": [
       "                    0  Close\n",
       "1950-01-01 1950-01-01    NaN\n",
       "1950-01-02 1950-01-02    NaN\n",
       "1950-01-03 1950-01-03    NaN\n",
       "1950-01-04 1950-01-04    NaN\n",
       "1950-01-05 1950-01-05    NaN"
      ]
     },
     "execution_count": 95,
     "metadata": {},
     "output_type": "execute_result"
    }
   ],
   "source": [
    "new_df = base.to_frame().merge(rel, left_index=True,right_index=True, how='outer')\n",
    "new_df.head()"
   ]
  },
  {
   "cell_type": "code",
   "execution_count": 98,
   "metadata": {},
   "outputs": [
    {
     "data": {
      "text/plain": [
       "DatetimeIndex(['1950-01-01', '1950-01-02', '1950-01-03', '1950-01-04',\n",
       "               '1950-01-05', '1950-01-06', '1950-01-07', '1950-01-08',\n",
       "               '1950-01-09', '1950-01-10',\n",
       "               ...\n",
       "               '2018-12-15', '2018-12-16', '2018-12-17', '2018-12-18',\n",
       "               '2018-12-19', '2018-12-20', '2018-12-21', '2018-12-22',\n",
       "               '2018-12-23', '2018-12-24'],\n",
       "              dtype='datetime64[ns]', length=25195, freq=None)"
      ]
     },
     "execution_count": 98,
     "metadata": {},
     "output_type": "execute_result"
    }
   ],
   "source": [
    "plot()\n"
   ]
  },
  {
   "cell_type": "code",
   "execution_count": null,
   "metadata": {
    "collapsed": true
   },
   "outputs": [],
   "source": []
  }
 ],
 "metadata": {
  "kernelspec": {
   "display_name": "Python 3",
   "language": "python",
   "name": "python3"
  },
  "language_info": {
   "codemirror_mode": {
    "name": "ipython",
    "version": 3
   },
   "file_extension": ".py",
   "mimetype": "text/x-python",
   "name": "python",
   "nbconvert_exporter": "python",
   "pygments_lexer": "ipython3",
   "version": "3.6.1"
  }
 },
 "nbformat": 4,
 "nbformat_minor": 2
}
